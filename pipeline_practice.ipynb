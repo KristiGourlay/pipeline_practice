{
 "cells": [
  {
   "cell_type": "code",
   "execution_count": 1,
   "metadata": {},
   "outputs": [],
   "source": [
    "import pandas as pd\n",
    "import numpy as np\n",
    "\n",
    "from sklearn.linear_model import LinearRegression, LogisticRegression\n",
    "from sklearn.impute import SimpleImputer\n",
    "from sklearn.preprocessing import OneHotEncoder, StandardScaler, LabelBinarizer\n",
    "from sklearn.pipeline import Pipeline\n",
    "from sklearn.ensemble import RandomForestRegressor\n",
    "from sklearn.compose import ColumnTransformer\n",
    "from sklearn.model_selection import train_test_split\n",
    "import joblib\n"
   ]
  },
  {
   "cell_type": "code",
   "execution_count": 2,
   "metadata": {},
   "outputs": [],
   "source": [
    "data = pd.read_csv('data/brazil_cities.csv', sep=';', decimal=',')"
   ]
  },
  {
   "cell_type": "code",
   "execution_count": 3,
   "metadata": {},
   "outputs": [
    {
     "data": {
      "text/html": [
       "<div>\n",
       "<style scoped>\n",
       "    .dataframe tbody tr th:only-of-type {\n",
       "        vertical-align: middle;\n",
       "    }\n",
       "\n",
       "    .dataframe tbody tr th {\n",
       "        vertical-align: top;\n",
       "    }\n",
       "\n",
       "    .dataframe thead th {\n",
       "        text-align: right;\n",
       "    }\n",
       "</style>\n",
       "<table border=\"1\" class=\"dataframe\">\n",
       "  <thead>\n",
       "    <tr style=\"text-align: right;\">\n",
       "      <th></th>\n",
       "      <th>CITY</th>\n",
       "      <th>STATE</th>\n",
       "      <th>CAPITAL</th>\n",
       "      <th>IBGE_RES_POP</th>\n",
       "      <th>IBGE_RES_POP_BRAS</th>\n",
       "      <th>IBGE_RES_POP_ESTR</th>\n",
       "      <th>IBGE_DU</th>\n",
       "      <th>IBGE_DU_URBAN</th>\n",
       "      <th>IBGE_DU_RURAL</th>\n",
       "      <th>IBGE_POP</th>\n",
       "      <th>...</th>\n",
       "      <th>Pu_Bank</th>\n",
       "      <th>Pr_Assets</th>\n",
       "      <th>Pu_Assets</th>\n",
       "      <th>Cars</th>\n",
       "      <th>Motorcycles</th>\n",
       "      <th>Wheeled_tractor</th>\n",
       "      <th>UBER</th>\n",
       "      <th>MAC</th>\n",
       "      <th>WAL-MART</th>\n",
       "      <th>POST_OFFICES</th>\n",
       "    </tr>\n",
       "  </thead>\n",
       "  <tbody>\n",
       "    <tr>\n",
       "      <th>0</th>\n",
       "      <td>São Paulo</td>\n",
       "      <td>SP</td>\n",
       "      <td>1</td>\n",
       "      <td>11253503.0</td>\n",
       "      <td>11133776.0</td>\n",
       "      <td>119727.0</td>\n",
       "      <td>3576148.0</td>\n",
       "      <td>3548433.0</td>\n",
       "      <td>27715.0</td>\n",
       "      <td>10463636.0</td>\n",
       "      <td>...</td>\n",
       "      <td>8.0</td>\n",
       "      <td>1.947077e+13</td>\n",
       "      <td>2.893261e+12</td>\n",
       "      <td>5740995.0</td>\n",
       "      <td>1134570.0</td>\n",
       "      <td>3236.0</td>\n",
       "      <td>1.0</td>\n",
       "      <td>130.0</td>\n",
       "      <td>7.0</td>\n",
       "      <td>225.0</td>\n",
       "    </tr>\n",
       "    <tr>\n",
       "      <th>1</th>\n",
       "      <td>Osasco</td>\n",
       "      <td>SP</td>\n",
       "      <td>0</td>\n",
       "      <td>666740.0</td>\n",
       "      <td>664447.0</td>\n",
       "      <td>2293.0</td>\n",
       "      <td>202009.0</td>\n",
       "      <td>202009.0</td>\n",
       "      <td>NaN</td>\n",
       "      <td>616068.0</td>\n",
       "      <td>...</td>\n",
       "      <td>2.0</td>\n",
       "      <td>6.732330e+12</td>\n",
       "      <td>1.321699e+10</td>\n",
       "      <td>283641.0</td>\n",
       "      <td>73477.0</td>\n",
       "      <td>174.0</td>\n",
       "      <td>NaN</td>\n",
       "      <td>7.0</td>\n",
       "      <td>1.0</td>\n",
       "      <td>10.0</td>\n",
       "    </tr>\n",
       "    <tr>\n",
       "      <th>2</th>\n",
       "      <td>Rio De Janeiro</td>\n",
       "      <td>RJ</td>\n",
       "      <td>1</td>\n",
       "      <td>6320446.0</td>\n",
       "      <td>6264915.0</td>\n",
       "      <td>55531.0</td>\n",
       "      <td>2147235.0</td>\n",
       "      <td>2147235.0</td>\n",
       "      <td>NaN</td>\n",
       "      <td>5426838.0</td>\n",
       "      <td>...</td>\n",
       "      <td>5.0</td>\n",
       "      <td>2.283445e+12</td>\n",
       "      <td>9.738864e+11</td>\n",
       "      <td>2039930.0</td>\n",
       "      <td>363486.0</td>\n",
       "      <td>289.0</td>\n",
       "      <td>1.0</td>\n",
       "      <td>68.0</td>\n",
       "      <td>1.0</td>\n",
       "      <td>120.0</td>\n",
       "    </tr>\n",
       "    <tr>\n",
       "      <th>3</th>\n",
       "      <td>Brasília</td>\n",
       "      <td>DF</td>\n",
       "      <td>1</td>\n",
       "      <td>2570160.0</td>\n",
       "      <td>2564370.0</td>\n",
       "      <td>5790.0</td>\n",
       "      <td>774820.0</td>\n",
       "      <td>751558.0</td>\n",
       "      <td>23261.0</td>\n",
       "      <td>2450634.0</td>\n",
       "      <td>...</td>\n",
       "      <td>4.0</td>\n",
       "      <td>2.920933e+11</td>\n",
       "      <td>8.016164e+12</td>\n",
       "      <td>1288107.0</td>\n",
       "      <td>211392.0</td>\n",
       "      <td>594.0</td>\n",
       "      <td>1.0</td>\n",
       "      <td>28.0</td>\n",
       "      <td>1.0</td>\n",
       "      <td>60.0</td>\n",
       "    </tr>\n",
       "    <tr>\n",
       "      <th>4</th>\n",
       "      <td>Porto Alegre</td>\n",
       "      <td>RS</td>\n",
       "      <td>1</td>\n",
       "      <td>1409351.0</td>\n",
       "      <td>1403450.0</td>\n",
       "      <td>5901.0</td>\n",
       "      <td>508503.0</td>\n",
       "      <td>508503.0</td>\n",
       "      <td>NaN</td>\n",
       "      <td>1339712.0</td>\n",
       "      <td>...</td>\n",
       "      <td>3.0</td>\n",
       "      <td>2.709619e+11</td>\n",
       "      <td>4.026997e+11</td>\n",
       "      <td>608777.0</td>\n",
       "      <td>106829.0</td>\n",
       "      <td>1383.0</td>\n",
       "      <td>1.0</td>\n",
       "      <td>19.0</td>\n",
       "      <td>12.0</td>\n",
       "      <td>53.0</td>\n",
       "    </tr>\n",
       "  </tbody>\n",
       "</table>\n",
       "<p>5 rows × 81 columns</p>\n",
       "</div>"
      ],
      "text/plain": [
       "             CITY STATE  CAPITAL  IBGE_RES_POP  IBGE_RES_POP_BRAS  \\\n",
       "0       São Paulo    SP        1    11253503.0         11133776.0   \n",
       "1          Osasco    SP        0      666740.0           664447.0   \n",
       "2  Rio De Janeiro    RJ        1     6320446.0          6264915.0   \n",
       "3        Brasília    DF        1     2570160.0          2564370.0   \n",
       "4    Porto Alegre    RS        1     1409351.0          1403450.0   \n",
       "\n",
       "   IBGE_RES_POP_ESTR    IBGE_DU  IBGE_DU_URBAN  IBGE_DU_RURAL    IBGE_POP  \\\n",
       "0           119727.0  3576148.0      3548433.0        27715.0  10463636.0   \n",
       "1             2293.0   202009.0       202009.0            NaN    616068.0   \n",
       "2            55531.0  2147235.0      2147235.0            NaN   5426838.0   \n",
       "3             5790.0   774820.0       751558.0        23261.0   2450634.0   \n",
       "4             5901.0   508503.0       508503.0            NaN   1339712.0   \n",
       "\n",
       "   ...  Pu_Bank     Pr_Assets     Pu_Assets       Cars  Motorcycles  \\\n",
       "0  ...      8.0  1.947077e+13  2.893261e+12  5740995.0    1134570.0   \n",
       "1  ...      2.0  6.732330e+12  1.321699e+10   283641.0      73477.0   \n",
       "2  ...      5.0  2.283445e+12  9.738864e+11  2039930.0     363486.0   \n",
       "3  ...      4.0  2.920933e+11  8.016164e+12  1288107.0     211392.0   \n",
       "4  ...      3.0  2.709619e+11  4.026997e+11   608777.0     106829.0   \n",
       "\n",
       "   Wheeled_tractor  UBER    MAC  WAL-MART  POST_OFFICES  \n",
       "0           3236.0   1.0  130.0       7.0         225.0  \n",
       "1            174.0   NaN    7.0       1.0          10.0  \n",
       "2            289.0   1.0   68.0       1.0         120.0  \n",
       "3            594.0   1.0   28.0       1.0          60.0  \n",
       "4           1383.0   1.0   19.0      12.0          53.0  \n",
       "\n",
       "[5 rows x 81 columns]"
      ]
     },
     "execution_count": 3,
     "metadata": {},
     "output_type": "execute_result"
    }
   ],
   "source": [
    "data.head(5)"
   ]
  },
  {
   "cell_type": "code",
   "execution_count": 4,
   "metadata": {},
   "outputs": [
    {
     "data": {
      "text/plain": [
       "(5576, 81)"
      ]
     },
     "execution_count": 4,
     "metadata": {},
     "output_type": "execute_result"
    }
   ],
   "source": [
    "data.shape"
   ]
  },
  {
   "cell_type": "code",
   "execution_count": 5,
   "metadata": {},
   "outputs": [],
   "source": [
    "keep = ['STATE', 'CAPITAL', 'IBGE_RES_POP', 'IDHM_Longevidade', 'IDHM_Educacao', 'GDP', 'COMP_TOT', 'CATEGORIA_TUR']"
   ]
  },
  {
   "cell_type": "code",
   "execution_count": 6,
   "metadata": {},
   "outputs": [],
   "source": [
    "df = data[keep]"
   ]
  },
  {
   "cell_type": "code",
   "execution_count": 7,
   "metadata": {},
   "outputs": [],
   "source": [
    "df = df.rename(columns={'STATE': 'state', 'CAPITAL': 'capital', 'IBGE_RES_POP': 'population',\n",
    "                'IDHM_Longevidade': 'life_expectancy', 'IDHM_Educacao': 'education_index',\n",
    "                'GDP': 'gdp', 'COMP_TOT': 'num_companies',\n",
    "                'CATEGORIA_TUR': 'tourism_category',})"
   ]
  },
  {
   "cell_type": "code",
   "execution_count": 8,
   "metadata": {},
   "outputs": [
    {
     "data": {
      "text/plain": [
       "state                object\n",
       "capital               int64\n",
       "population          float64\n",
       "life_expectancy     float64\n",
       "education_index     float64\n",
       "gdp                 float64\n",
       "num_companies       float64\n",
       "tourism_category     object\n",
       "dtype: object"
      ]
     },
     "execution_count": 8,
     "metadata": {},
     "output_type": "execute_result"
    }
   ],
   "source": [
    "df.dtypes"
   ]
  },
  {
   "cell_type": "code",
   "execution_count": 9,
   "metadata": {},
   "outputs": [
    {
     "data": {
      "text/plain": [
       "state                  0\n",
       "capital                0\n",
       "population             8\n",
       "life_expectancy        8\n",
       "education_index        8\n",
       "gdp                    3\n",
       "num_companies          3\n",
       "tourism_category    2288\n",
       "dtype: int64"
      ]
     },
     "execution_count": 9,
     "metadata": {},
     "output_type": "execute_result"
    }
   ],
   "source": [
    "df.isna().sum()"
   ]
  },
  {
   "cell_type": "code",
   "execution_count": 10,
   "metadata": {},
   "outputs": [],
   "source": [
    "df = df.dropna(subset=['population']) # Drop all NaN in target column"
   ]
  },
  {
   "cell_type": "markdown",
   "metadata": {},
   "source": [
    "# Train Test Split"
   ]
  },
  {
   "cell_type": "code",
   "execution_count": 11,
   "metadata": {},
   "outputs": [],
   "source": [
    "y = df['population']\n",
    "features = [col for col in df if col != 'population']"
   ]
  },
  {
   "cell_type": "code",
   "execution_count": 12,
   "metadata": {},
   "outputs": [],
   "source": [
    "X = df[features]"
   ]
  },
  {
   "cell_type": "code",
   "execution_count": 13,
   "metadata": {},
   "outputs": [
    {
     "data": {
      "text/html": [
       "<div>\n",
       "<style scoped>\n",
       "    .dataframe tbody tr th:only-of-type {\n",
       "        vertical-align: middle;\n",
       "    }\n",
       "\n",
       "    .dataframe tbody tr th {\n",
       "        vertical-align: top;\n",
       "    }\n",
       "\n",
       "    .dataframe thead th {\n",
       "        text-align: right;\n",
       "    }\n",
       "</style>\n",
       "<table border=\"1\" class=\"dataframe\">\n",
       "  <thead>\n",
       "    <tr style=\"text-align: right;\">\n",
       "      <th></th>\n",
       "      <th>state</th>\n",
       "      <th>capital</th>\n",
       "      <th>life_expectancy</th>\n",
       "      <th>education_index</th>\n",
       "      <th>gdp</th>\n",
       "      <th>num_companies</th>\n",
       "      <th>tourism_category</th>\n",
       "    </tr>\n",
       "  </thead>\n",
       "  <tbody>\n",
       "    <tr>\n",
       "      <th>0</th>\n",
       "      <td>SP</td>\n",
       "      <td>1</td>\n",
       "      <td>0.855</td>\n",
       "      <td>0.725</td>\n",
       "      <td>6.870359e+08</td>\n",
       "      <td>530446.0</td>\n",
       "      <td>A</td>\n",
       "    </tr>\n",
       "    <tr>\n",
       "      <th>1</th>\n",
       "      <td>SP</td>\n",
       "      <td>0</td>\n",
       "      <td>0.840</td>\n",
       "      <td>0.718</td>\n",
       "      <td>7.440269e+07</td>\n",
       "      <td>15315.0</td>\n",
       "      <td>B</td>\n",
       "    </tr>\n",
       "    <tr>\n",
       "      <th>2</th>\n",
       "      <td>RJ</td>\n",
       "      <td>1</td>\n",
       "      <td>0.845</td>\n",
       "      <td>0.719</td>\n",
       "      <td>3.294314e+08</td>\n",
       "      <td>190038.0</td>\n",
       "      <td>A</td>\n",
       "    </tr>\n",
       "    <tr>\n",
       "      <th>3</th>\n",
       "      <td>DF</td>\n",
       "      <td>1</td>\n",
       "      <td>0.873</td>\n",
       "      <td>0.742</td>\n",
       "      <td>2.354971e+08</td>\n",
       "      <td>86200.0</td>\n",
       "      <td>A</td>\n",
       "    </tr>\n",
       "    <tr>\n",
       "      <th>4</th>\n",
       "      <td>RS</td>\n",
       "      <td>1</td>\n",
       "      <td>0.857</td>\n",
       "      <td>0.702</td>\n",
       "      <td>7.342526e+04</td>\n",
       "      <td>80082.0</td>\n",
       "      <td>A</td>\n",
       "    </tr>\n",
       "  </tbody>\n",
       "</table>\n",
       "</div>"
      ],
      "text/plain": [
       "  state  capital  life_expectancy  education_index           gdp  \\\n",
       "0    SP        1            0.855            0.725  6.870359e+08   \n",
       "1    SP        0            0.840            0.718  7.440269e+07   \n",
       "2    RJ        1            0.845            0.719  3.294314e+08   \n",
       "3    DF        1            0.873            0.742  2.354971e+08   \n",
       "4    RS        1            0.857            0.702  7.342526e+04   \n",
       "\n",
       "   num_companies tourism_category  \n",
       "0       530446.0                A  \n",
       "1        15315.0                B  \n",
       "2       190038.0                A  \n",
       "3        86200.0                A  \n",
       "4        80082.0                A  "
      ]
     },
     "execution_count": 13,
     "metadata": {},
     "output_type": "execute_result"
    }
   ],
   "source": [
    "X.head()"
   ]
  },
  {
   "cell_type": "code",
   "execution_count": 14,
   "metadata": {},
   "outputs": [],
   "source": [
    "X_train, X_test, y_train, y_test = train_test_split(X, y, test_size=0.2)"
   ]
  },
  {
   "cell_type": "code",
   "execution_count": 15,
   "metadata": {},
   "outputs": [
    {
     "name": "stdout",
     "output_type": "stream",
     "text": [
      "(4454, 7)\n",
      "(1114, 7)\n",
      "(4454,)\n",
      "(1114,)\n"
     ]
    }
   ],
   "source": [
    "print(X_train.shape)\n",
    "print(X_test.shape)\n",
    "print(y_train.shape)\n",
    "print(y_test.shape)"
   ]
  },
  {
   "cell_type": "markdown",
   "metadata": {},
   "source": [
    "# Classify Columns into Categorical and Numerical"
   ]
  },
  {
   "cell_type": "code",
   "execution_count": null,
   "metadata": {},
   "outputs": [],
   "source": [
    "cat_cols = ['state', 'capital', 'tourism_category']\n",
    "num_cols = ['life_expectancy', 'education_index', 'gdp', 'num_companies']"
   ]
  },
  {
   "cell_type": "markdown",
   "metadata": {},
   "source": [
    "# Build a Pipeline for Categorical Columns"
   ]
  },
  {
   "cell_type": "code",
   "execution_count": null,
   "metadata": {},
   "outputs": [],
   "source": [
    "cat_cols"
   ]
  },
  {
   "cell_type": "code",
   "execution_count": null,
   "metadata": {},
   "outputs": [],
   "source": [
    "X_train_cat = X_train[cat_cols]\n",
    "X_train_cat.head(3)"
   ]
  },
  {
   "cell_type": "code",
   "execution_count": null,
   "metadata": {},
   "outputs": [],
   "source": [
    "X_train_cat.isna().sum()"
   ]
  },
  {
   "cell_type": "code",
   "execution_count": null,
   "metadata": {},
   "outputs": [],
   "source": [
    "si = SimpleImputer(strategy='constant', fill_value='other')\n",
    "\n",
    "si.fit(X_train_cat)\n",
    "X_train_cat_si = si.transform(X_train_cat)"
   ]
  },
  {
   "cell_type": "code",
   "execution_count": null,
   "metadata": {},
   "outputs": [],
   "source": [
    "ohe = OneHotEncoder(sparse=False)\n",
    "\n",
    "X_train_cat_ohe = ohe.fit_transform(X_train_cat_si)"
   ]
  },
  {
   "cell_type": "code",
   "execution_count": null,
   "metadata": {},
   "outputs": [],
   "source": [
    "steps = [\n",
    "    ('impute', si),\n",
    "    ('ohe', ohe)\n",
    "]\n",
    "\n",
    "cat_pipe = Pipeline(steps=steps)\n",
    "cat_pipe.fit(X_train_cat, y_train)"
   ]
  },
  {
   "cell_type": "markdown",
   "metadata": {},
   "source": [
    "# Build a Pipeline for Numerical Columns"
   ]
  },
  {
   "cell_type": "code",
   "execution_count": null,
   "metadata": {},
   "outputs": [],
   "source": [
    "num_cols"
   ]
  },
  {
   "cell_type": "code",
   "execution_count": null,
   "metadata": {},
   "outputs": [],
   "source": [
    "X_train_num = X_train[num_cols]\n",
    "X_train_num.head(3)"
   ]
  },
  {
   "cell_type": "code",
   "execution_count": null,
   "metadata": {},
   "outputs": [],
   "source": [
    "si = SimpleImputer(strategy='mean')\n",
    "ss = StandardScaler()\n",
    "\n",
    "steps = [\n",
    "    ('impute', si),\n",
    "    ('ss', ss)\n",
    "]\n",
    "\n",
    "num_pipe = Pipeline(steps=steps)\n",
    "num_pipe.fit(X_train_num, y_train)"
   ]
  },
  {
   "cell_type": "markdown",
   "metadata": {},
   "source": [
    "# Use ColumnTransformer to Concatenate all Data Together"
   ]
  },
  {
   "cell_type": "code",
   "execution_count": null,
   "metadata": {},
   "outputs": [],
   "source": [
    "transformers = [\n",
    "    ('cat', cat_pipe, cat_cols),\n",
    "    ('num', num_pipe, num_cols)\n",
    "]\n",
    "\n",
    "ct = ColumnTransformer(transformers=transformers)"
   ]
  },
  {
   "cell_type": "code",
   "execution_count": null,
   "metadata": {},
   "outputs": [],
   "source": [
    "X_train_trans = ct.fit_transform(X_train)"
   ]
  },
  {
   "cell_type": "code",
   "execution_count": null,
   "metadata": {},
   "outputs": [],
   "source": [
    "X_train_trans.shape"
   ]
  },
  {
   "cell_type": "markdown",
   "metadata": {},
   "source": [
    "# Create a Final Pipeline with Machine Learning Model"
   ]
  },
  {
   "cell_type": "code",
   "execution_count": null,
   "metadata": {},
   "outputs": [],
   "source": [
    "lr = LinearRegression()\n",
    "\n",
    "final_steps = [\n",
    "    ('transformer', ct),\n",
    "    ('model', lr)\n",
    "]\n",
    "\n",
    "pipe = Pipeline(steps=final_steps)"
   ]
  },
  {
   "cell_type": "code",
   "execution_count": null,
   "metadata": {},
   "outputs": [],
   "source": [
    "pipe.fit(X_train, y_train)"
   ]
  },
  {
   "cell_type": "code",
   "execution_count": null,
   "metadata": {},
   "outputs": [],
   "source": [
    "pipe.score(X_train, y_train)"
   ]
  },
  {
   "cell_type": "code",
   "execution_count": null,
   "metadata": {},
   "outputs": [],
   "source": [
    "pipe.score(X_test, y_test)"
   ]
  },
  {
   "cell_type": "code",
   "execution_count": null,
   "metadata": {},
   "outputs": [],
   "source": []
  }
 ],
 "metadata": {
  "kernelspec": {
   "display_name": "Python 3",
   "language": "python",
   "name": "python3"
  },
  "language_info": {
   "codemirror_mode": {
    "name": "ipython",
    "version": 3
   },
   "file_extension": ".py",
   "mimetype": "text/x-python",
   "name": "python",
   "nbconvert_exporter": "python",
   "pygments_lexer": "ipython3",
   "version": "3.6.8"
  }
 },
 "nbformat": 4,
 "nbformat_minor": 2
}
